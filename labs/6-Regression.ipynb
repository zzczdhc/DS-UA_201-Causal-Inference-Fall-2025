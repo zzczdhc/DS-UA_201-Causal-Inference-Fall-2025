{
  "cells": [
    {
      "cell_type": "markdown",
      "metadata": {
        "id": "-C4NdfM56rhA"
      },
      "source": [
        "\n",
        "<div align=\"center\">\n",
        "\n",
        "[![Open in Colab](https://colab.research.google.com/assets/colab-badge.svg)](https://colab.research.google.com/github/xiangtgao/DS-UA_201-Causal-Inference-Spring-2025/blob/main/labs/6-Regression.ipynb)\n",
        "\n",
        "</div>\n"
      ]
    },
    {
      "cell_type": "markdown",
      "metadata": {
        "id": "0w1k2dpv6-3j"
      },
      "source": [
        "$$\n",
        "\\begin{array}{c}\n",
        "\\textbf{CAUSAL INFERENCE}\\\\\\\\\n",
        "\\textbf{Zichao Zhang} \\\\\n",
        "\\textit{Center for Data Science, New York University} \\\\\\\\\n",
        "\\textit{Mar 7, 2025}\\\\\\\\\\\\\n",
        "\\text{Materials prepared by: Daniela Pinto Veizaga, Xiang Pan, Xiang Gao，and Zichao Zhang}\n",
        "\\end{array}\n",
        "$$\n",
        "\n",
        "---"
      ]
    },
    {
      "cell_type": "markdown",
      "metadata": {
        "id": "bVCIs6f46rhB"
      },
      "source": [
        "# Regression"
      ]
    },
    {
      "cell_type": "markdown",
      "metadata": {
        "id": "x4VKDD6G6rhC"
      },
      "source": [
        "Descriptive regression versus causal regression"
      ]
    },
    {
      "cell_type": "markdown",
      "metadata": {
        "id": "toaHut396rhC"
      },
      "source": [
        "## Descriptive Regression"
      ]
    },
    {
      "cell_type": "markdown",
      "metadata": {
        "id": "zXO3IR536rhC"
      },
      "source": [
        "\\begin{align}\n",
        "Y=\\beta_0+\\beta_1 X+\\varepsilon\n",
        "\\end{align}"
      ]
    },
    {
      "cell_type": "markdown",
      "metadata": {
        "id": "vh4xrqI36rhD"
      },
      "source": [
        "\\begin{align}\n",
        "\\min _{b_0, b_1} E\\left[\\left(Y-\\left(b_0+b_1 X\\right)\\right)^2\\right]\n",
        "\\end{align}"
      ]
    },
    {
      "cell_type": "markdown",
      "metadata": {
        "id": "WuYfwHsZ6rhD"
      },
      "source": [
        "Residual:\n",
        "\\begin{align}\n",
        "\\varepsilon \\equiv Y-\\left(\\beta_0+\\beta_1 X\\right)\n",
        "\\end{align}"
      ]
    },
    {
      "cell_type": "code",
      "execution_count": 1,
      "metadata": {
        "colab": {
          "base_uri": "https://localhost:8080/",
          "height": 747,
          "referenced_widgets": [
            "56f26149bc6a48d1a4aca89004192aa7",
            "941f6d8717b540b9a1fba545dc396e28",
            "951f44cc838644848509aed28daa3cbd",
            "94a3118053cb4347850f8754320665be",
            "3231288a57ed411cbb0e3df83549b756",
            "64873543672a40acbd554209ec6fd32b",
            "8ff0bb3d6553404b9df489bd792266f9",
            "ac42334dbfa441b385020c333cd589cf",
            "ebea55220ceb4d44b4d806e7ad40971a",
            "5195aeb50cf547cca9071cf789b1a449",
            "b02dd47be9af4daab19cc2f3dc39750b",
            "a9950df17bef49a6a7b68498fabfde68",
            "fb46630563c24e4980c9988869a06983"
          ]
        },
        "id": "ScHix1rn6rhE",
        "outputId": "a7aef10a-9961-4aea-b232-86774e8bc188"
      },
      "outputs": [
        {
          "data": {
            "application/vnd.jupyter.widget-view+json": {
              "model_id": "56f26149bc6a48d1a4aca89004192aa7",
              "version_major": 2,
              "version_minor": 0
            },
            "text/plain": [
              "interactive(children=(FloatSlider(value=-10.0, description='Left Boundary', max=0.0, min=-20.0, step=1.0), Flo…"
            ]
          },
          "metadata": {},
          "output_type": "display_data"
        },
        {
          "data": {
            "text/html": [
              "<div style=\"max-width:800px; border: 1px solid var(--colab-border-color);\"><style>\n",
              "      pre.function-repr-contents {\n",
              "        overflow-x: auto;\n",
              "        padding: 8px 12px;\n",
              "        max-height: 500px;\n",
              "      }\n",
              "\n",
              "      pre.function-repr-contents.function-repr-contents-collapsed {\n",
              "        cursor: pointer;\n",
              "        max-height: 100px;\n",
              "      }\n",
              "    </style>\n",
              "    <pre style=\"white-space: initial; background:\n",
              "         var(--colab-secondary-surface-color); padding: 8px 12px;\n",
              "         border-bottom: 1px solid var(--colab-border-color);\"><b>update_plot</b><br/>def update_plot(left_boundary, right_boundary, gap)</pre><pre class=\"function-repr-contents function-repr-contents-collapsed\" style=\"\"><a class=\"filepath\" style=\"display:none\" href=\"#\">/content/&lt;ipython-input-1-1767fdc46588&gt;</a>&lt;no docstring&gt;</pre></div>"
            ],
            "text/plain": [
              "<function __main__.update_plot(left_boundary, right_boundary, gap)>"
            ]
          },
          "execution_count": 1,
          "metadata": {},
          "output_type": "execute_result"
        }
      ],
      "source": [
        "# Target function\n",
        "def g(x):\n",
        "    return x**2\n",
        "\n",
        "# Modeling function\n",
        "def f(x, beta_0, beta_1):\n",
        "    return beta_0 + beta_1 * x\n",
        "\n",
        "# Loss function\n",
        "def loss(y, y_pred):\n",
        "    return (y - y_pred)**2\n",
        "\n",
        "# Closed-form solution\n",
        "def closed_form_solution(x, y):\n",
        "    beta_1 = (y.dot(x) - y.mean() * x.mean()) / ((x - x.mean())**2).sum()\n",
        "    beta_0 = y.mean() - beta_1 * x.mean()\n",
        "    return beta_0, beta_1\n",
        "\n",
        "# Importing necessary libraries\n",
        "import matplotlib.pyplot as plt\n",
        "import numpy as np\n",
        "from ipywidgets import interact, FloatSlider\n",
        "\n",
        "# Function to update plot with boundaries\n",
        "def update_plot(left_boundary, right_boundary, gap):\n",
        "    # Generate data points within the specified boundary\n",
        "    # x = np.linspace(left_boundary, right_boundary, gap)\n",
        "    x = np.arange(left_boundary, right_boundary, gap)\n",
        "    y = g(x)\n",
        "\n",
        "    # Get closed-form solution for beta_0 and beta_1\n",
        "    beta_0, beta_1 = closed_form_solution(x, y)\n",
        "\n",
        "    # Calculate the predicted values\n",
        "    y_pred = f(x, beta_0, beta_1)\n",
        "\n",
        "    # Plot the target and modeling functions\n",
        "    plt.figure(figsize=(8, 6))\n",
        "    plt.plot(x, y, label='Target Function (g(x))')\n",
        "    plt.plot(x, y_pred, label=f'Modeling Function (f(x, beta_0={beta_0:.2f}, beta_1={beta_1:.2f}))')\n",
        "    plt.legend()\n",
        "    plt.xlabel('x')\n",
        "    plt.ylabel('y')\n",
        "    plt.text(10, 10, f'f(x) = {beta_0:.2f} + {beta_1:.2f}x', fontsize=12, color='red')\n",
        "    plt.text(0, 0, f'f(x) = x^2', fontsize=12, color='blue')\n",
        "    plt.title('Target vs. Modeling Function')\n",
        "    plt.grid(True)\n",
        "    plt.show()\n",
        "\n",
        "# Interactive sliders for setting boundaries\n",
        "interact(update_plot,\n",
        "         left_boundary=FloatSlider(min=-20, max=0, step=1, value=-10, description='Left Boundary'),\n",
        "         right_boundary=FloatSlider(min=0, max=30, step=1, value=20, description='Right Boundary'),\n",
        "         gap=FloatSlider(min=0.1, max=20, step=0.1, value=1, description='Gap'))\n",
        "\n"
      ]
    },
    {
      "cell_type": "markdown",
      "metadata": {
        "id": "wdTdiJHG6rhF"
      },
      "source": [
        "## Vectorized implementation for linear regression"
      ]
    },
    {
      "cell_type": "markdown",
      "metadata": {
        "id": "hwh2ihWu6rhF"
      },
      "source": [
        "## Convert a LR with bias to a LR without bias\n",
        "\n",
        "\\begin{align}\n",
        "Y = \\beta_0 + \\beta_1 X + \\varepsilon\n",
        "\\end{align}\n",
        "\n",
        "\\begin{align}\n",
        "\\boldsymbol{\\beta}=\\left[\\begin{array}{c}\n",
        "\\beta_0 \\\\\n",
        "\\beta_1 \\\\\n",
        "\\vdots \\\\\n",
        "\\beta_d\n",
        "\\end{array}\\right] \\quad \\boldsymbol{x}^{\\boldsymbol{\\top}}=\\left[\\begin{array}{llll}\n",
        "1 & x_1 & \\ldots & x_d\n",
        "\\end{array}\\right]\n",
        "\\end{align}\n",
        "\n",
        "\\begin{align}\n",
        "Y = \\mathbb{x}^{\\top} \\mathbb{\\beta} + \\varepsilon\n",
        "\\end{align}\n",
        "\n"
      ]
    },
    {
      "cell_type": "code",
      "execution_count": 3,
      "metadata": {
        "colab": {
          "base_uri": "https://localhost:8080/",
          "height": 564
        },
        "id": "E-R_28ZJ6rhF",
        "outputId": "0e5873e9-4fd9-4324-ae01-1923ba3f76e9"
      },
      "outputs": [
        {
          "data": {
            "image/png": "[encoded data removed]",
            "text/plain": [
              "<Figure size 800x600 with 1 Axes>"
            ]
          },
          "metadata": {},
          "output_type": "display_data"
        }
      ],
      "source": [
        "# concat the beta_0 and beta_1 as a vector\n",
        "# beta = np.array([beta_0, beta_1])\n",
        "\n",
        "# vectorized implementation for linear regression\n",
        "def vectorized_linear_regression(x, y):\n",
        "    X = np.vstack([np.ones(len(x)), x]).T\n",
        "    beta = np.linalg.inv(X.T.dot(X)).dot(X.T).dot(y)\n",
        "    return beta\n",
        "\n",
        "\n",
        "# redo the plot with vectorized implementation\n",
        "x = np.linspace(0, 30, 100)\n",
        "y = g(x)\n",
        "beta = vectorized_linear_regression(x, y)\n",
        "y_pred = f(x, beta[0], beta[1])\n",
        "\n",
        "plt.figure(figsize=(8, 6))\n",
        "plt.plot(x, y, label='Target Function (g(x))')\n",
        "plt.plot(x, y_pred, label=f'Modeling Function (f(x, beta_0={beta[0]:.2f}, beta_1={beta[1]:.2f}))')\n",
        "plt.legend()\n",
        "plt.xlabel('x')\n",
        "plt.ylabel('y')\n",
        "plt.text(10, 10, f'f(x) = {beta[0]:.2f} + {beta[1]:.2f}x', fontsize=12, color='red')\n",
        "plt.text(0, 0, f'f(x) = x^2', fontsize=12, color='blue')\n",
        "plt.title('Target vs. Modeling Function')\n",
        "plt.grid(True)\n",
        "\n"
      ]
    },
    {
      "cell_type": "markdown",
      "metadata": {
        "id": "KZZHqxZK6rhG"
      },
      "source": [
        "## Kernel Regression"
      ]
    },
    {
      "cell_type": "markdown",
      "metadata": {
        "id": "liDc8D9w6rhG"
      },
      "source": [
        "If we know there is a non-linear relationship between X and Y, can we first map X to higher dimension 'components' and then apply linear regression?\n"
      ]
    },
    {
      "cell_type": "code",
      "execution_count": 4,
      "metadata": {
        "colab": {
          "base_uri": "https://localhost:8080/",
          "height": 769,
          "referenced_widgets": [
            "5d4c4921dce849de8222082cb185fbbc",
            "50799715b2e34f308c4b6e5eb810ff73",
            "e9a9f4e92a24432c9df5e944bc443d5d",
            "9310c7db73a64b66b4a6b441cfee58a0",
            "dac57494a3854dc1bbb0f752ef039d65",
            "e317689cd4774a278fed5ad8179ce5de",
            "8a9d94e672494288a794934aae53b9a0",
            "aa79c4c93faa441db45b87c6f5f81418",
            "284547e1ab4f480fa199f45f4c63e182",
            "a747cc12de774ae08e99eb204fac4b54"
          ]
        },
        "id": "HfSHRSCM6rhG",
        "outputId": "5f5726b3-129f-4e2b-e50e-4bf4a058c668"
      },
      "outputs": [
        {
          "data": {
            "application/vnd.jupyter.widget-view+json": {
              "model_id": "5d4c4921dce849de8222082cb185fbbc",
              "version_major": 2,
              "version_minor": 0
            },
            "text/plain": [
              "interactive(children=(FloatSlider(value=0.1, description='Alpha', max=1.0), IntSlider(value=3, description='De…"
            ]
          },
          "metadata": {},
          "output_type": "display_data"
        },
        {
          "data": {
            "text/html": [
              "<div style=\"max-width:800px; border: 1px solid var(--colab-border-color);\"><style>\n",
              "      pre.function-repr-contents {\n",
              "        overflow-x: auto;\n",
              "        padding: 8px 12px;\n",
              "        max-height: 500px;\n",
              "      }\n",
              "\n",
              "      pre.function-repr-contents.function-repr-contents-collapsed {\n",
              "        cursor: pointer;\n",
              "        max-height: 100px;\n",
              "      }\n",
              "    </style>\n",
              "    <pre style=\"white-space: initial; background:\n",
              "         var(--colab-secondary-surface-color); padding: 8px 12px;\n",
              "         border-bottom: 1px solid var(--colab-border-color);\"><b>update_plot_kernel_ridge_regression</b><br/>def update_plot_kernel_ridge_regression(alpha, degree)</pre><pre class=\"function-repr-contents function-repr-contents-collapsed\" style=\"\"><a class=\"filepath\" style=\"display:none\" href=\"#\">/content/&lt;ipython-input-4-39efb26bb75d&gt;</a>&lt;no docstring&gt;</pre></div>"
            ],
            "text/plain": [
              "<function __main__.update_plot_kernel_ridge_regression(alpha, degree)>"
            ]
          },
          "execution_count": 4,
          "metadata": {},
          "output_type": "execute_result"
        }
      ],
      "source": [
        "from ipywidgets import FloatSlider, IntSlider\n",
        "\n",
        "# If we know\n",
        "# Polynomial kernel\n",
        "def polynomial_kernel(x, degree):\n",
        "    return np.array([x**i for i in range(1, degree+1)]).T\n",
        "\n",
        "\n",
        "# Kernel Ridge Regression\n",
        "def kernel_ridge_regression(x, y, alpha, degree):\n",
        "    X = polynomial_kernel(x, degree)\n",
        "    print(X.shape)\n",
        "    beta = np.linalg.inv(X.T.dot(X) + alpha * np.eye(X.shape[1])).dot(X.T).dot(y)\n",
        "    return beta\n",
        "\n",
        "def kernel_f(x, beta):\n",
        "    return np.dot(polynomial_kernel(x, len(beta)), beta)\n",
        "\n",
        "def update_plot_kernel_ridge_regression(alpha, degree):\n",
        "    x = np.linspace(0, 30, 100)\n",
        "    y = g(x)\n",
        "    beta = kernel_ridge_regression(x, y, alpha, degree)\n",
        "    print(beta)\n",
        "    y_pred = kernel_f(x, beta)\n",
        "    mse = ((y - y_pred)**2).mean()\n",
        "    print(mse)\n",
        "\n",
        "    plt.figure(figsize=(8, 6))\n",
        "    plt.plot(x, y, label='Target Function (g(x))')\n",
        "    plt.plot(x, y_pred, label=f'Modeling Function (f(x, beta={beta}))', linestyle='--')\n",
        "    plt.legend()\n",
        "    plt.xlabel('x')\n",
        "    plt.ylabel('y')\n",
        "    # plt.text(10, 10, f'f(x) = {beta[0]:.2f} + {beta[1]:.2f}x', fontsize=12, color='red')\n",
        "    plt.text(0, 0, f'f(x) = x^2', fontsize=12, color='blue')\n",
        "    plt.title('Target vs. Modeling Function')\n",
        "    plt.grid(True)\n",
        "    plt.show()\n",
        "interact(update_plot_kernel_ridge_regression,\n",
        "         alpha=FloatSlider(min=0, max=1, step=0.1, value=0.1, description='Alpha'),\n",
        "         degree=IntSlider(min=1, max=10, step=1, value=3, description='Degree'))\n"
      ]
    },
    {
      "cell_type": "markdown",
      "metadata": {
        "id": "faEtxJME6rhG"
      },
      "source": [
        "Side Note:\n",
        "\n",
        "What does neural network do? Map the input $X$ to a higher dimension representation $\\phi(X)$, and then apply linear classifier/regressor."
      ]
    },
    {
      "cell_type": "markdown",
      "metadata": {
        "id": "uI9rQI1n6rhG"
      },
      "source": [
        "## Causal Regression"
      ]
    },
    {
      "cell_type": "markdown",
      "metadata": {
        "id": "yAD8x2Xl6rhG"
      },
      "source": [
        "If we assume the linear all-cause model,\n",
        "\\begin{align}\n",
        "    Y (S, U) = \\alpha_0 + \\alpha_1 S +U\n",
        "\\end{align}\n",
        "\n",
        "The causal residual is U. For causal interpretation, $\\mathbb{E}[U] = 0$.\n",
        "\n",
        "If,\n",
        "\n",
        "\\begin{align}\n",
        "    E (U) \\neq 0\n",
        "\\end{align}\n",
        "\n",
        "\n",
        "we redefine the\n",
        "\n",
        "\\begin{align}\n",
        "    & Y (S, U) \\\\\n",
        "    &= \\alpha_0 + \\alpha_1 S +U \\\\\n",
        "    &= (\\tilde{\\alpha}_0 - \\mathbb{E}[U]) + \\alpha_1 S + \\tilde{U} + \\mathbb{E}[U] \\\\\n",
        "    &= \\tilde{\\alpha}_0 + \\alpha_1 S + \\tilde{U}\n",
        "\\end{align}\n",
        "\n",
        "Then we have the $\\mathbb{E}[\\tilde{U}] = 0$.\n",
        "\n"
      ]
    },
    {
      "cell_type": "markdown",
      "metadata": {
        "id": "KIIgGZZf6rhG"
      },
      "source": [
        "Note:\n",
        "\n",
        "If we assume\n",
        "\\begin{align}\n",
        "S \\perp U\n",
        "\\end{align}\n",
        "\n",
        "we can say $\\mathbb{E}[SU] = 0$.\n",
        "\n",
        "\n",
        "\n",
        "\n"
      ]
    },
    {
      "cell_type": "markdown",
      "metadata": {
        "id": "xqh5rQFh6rhG"
      },
      "source": [
        "### Identification\n",
        "\n",
        "For descriptive regression, we can always identify.\n",
        "\n",
        "For causal regression, we need to make assumptions ($S \\perp U$).\n"
      ]
    },
    {
      "cell_type": "markdown",
      "metadata": {
        "id": "CSBKxfNe6rhG"
      },
      "source": [
        "By transformation, we can have\n",
        "\n",
        "\\begin{align}\n",
        "    \\mathbb{E}[U] = 0 \\\\\n",
        "    \\implies \\mathbb{E}[Y - \\beta_0 - \\beta_1 X] = 0 \\\\\n",
        "    \\implies \\mathbb{E}[Y] = \\beta_0 + \\beta_1 \\mathbb{E}[X] \\\\\n",
        "    \\implies \\beta_0 = \\mathbb{E}[Y] - \\beta_1 \\mathbb{E}[X]\n",
        "\\end{align}\n",
        "\n",
        "\n",
        "\n",
        "\n",
        "\n",
        "\n",
        "\n",
        "\n",
        "\n",
        "\n",
        "\n",
        "\n",
        "\n",
        "\n",
        "\n",
        "\n",
        "\n",
        "\n",
        "\n",
        "\n"
      ]
    },
    {
      "cell_type": "markdown",
      "metadata": {
        "id": "VsaobiXN6rhG"
      },
      "source": [
        "\\begin{align}\n",
        "E[X U] &=0 \\\\\n",
        "\\Rightarrow E\\left[X\\left(Y-\\beta_0-\\beta_1 X\\right)\\right] &=0 \\\\\n",
        "E\\left[X\\left(Y-\\left(E[Y]-\\beta_1 E[X]\\right)-\\beta_1 X\\right)\\right] &=0 & (\\beta_0 = E[Y] - \\beta_1 E[X]) \\\\\n",
        "E\\left[X\\left(Y-E[Y]-\\beta_1(X-E[X])\\right)\\right] & =0 \\\\\n",
        "E\\left[X(Y-E[Y])-\\beta_1 X(X-E[X])\\right] & =0 \\\\\n",
        "E[X(Y-E[Y])]-\\beta_1 E[X(X-E[X])] & =0\n",
        "\\end{align}\n",
        "\n",
        "\\begin{align}\n",
        "\\operatorname{Cov}(X, Y)-\\beta_1 \\operatorname{Var}(X)=0\n",
        "\\end{align}\n",
        "\n",
        "\\begin{align}\n",
        "\\beta_1 = \\frac{\\operatorname{Cov}(X, Y)}{\\operatorname{Var}(X)}\n",
        "\\end{align}\n",
        "\n",
        "\n",
        "\n",
        "\n",
        "\n",
        "\n"
      ]
    },
    {
      "cell_type": "markdown",
      "metadata": {
        "id": "BphZhzW46rhG"
      },
      "source": [
        "## Experiments"
      ]
    },
    {
      "cell_type": "markdown",
      "metadata": {
        "id": "fIqG-VsW6rhH"
      },
      "source": [
        "S: the state.\n",
        "\n",
        "\\begin{align}\n",
        "Y(S, U)=\\beta_0+\\beta_1 S+U\n",
        "\\end{align}\n",
        "\n",
        "Causal Interpretation, If $S \\perp U$, then\n",
        "\n",
        "\\begin{align}\n",
        "\\beta_1=\\frac{\\operatorname{Cov}(S, Y)}{\\operatorname{Var}(S)}\n",
        "\\end{align}\n",
        "\n",
        "Mapping those things to the experiments context, we have\n",
        "\n",
        "\\begin{align}\n",
        "\\operatorname{Cov}(S, Y)\n",
        "&=E[S Y]-E[S] E[Y]\n",
        "\\end{align}\n",
        "\n",
        "\\begin{align}\n",
        "E[S Y] & =E[E[S Y \\mid S]] \\\\\n",
        "& =E[S Y \\mid S=1] P(S=1)+E[S Y \\mid S=0] P(S=0) \\\\\n",
        "& =E[Y \\mid S=1] P(S=1) \\\\\n",
        "& =E[Y \\mid S=1] p\n",
        "\\end{align}\n",
        "\n",
        "\n",
        "\\begin{align}\n",
        "\\begin{aligned}\n",
        "E[S] E[Y] & =P(S=1)(E[E[Y \\mid S]]) \\\\\n",
        "& =p([E[Y \\mid S=1] p+E[Y \\mid S=0](1-p)) \\\\\n",
        "& =E[Y \\mid S=1] p^2+E[Y \\mid S=0] p(1-p)\n",
        "\\end{aligned}\n",
        "\\end{align}\n"
      ]
    },
    {
      "cell_type": "markdown",
      "metadata": {
        "id": "U8R1Mwxb6rhH"
      },
      "source": [
        "\\begin{align}\n",
        "\\begin{aligned}\n",
        "\\operatorname{Var}(S) & =E\\left[S^2\\right]-E[S]^2 \\\\\n",
        "E\\left[S^2\\right] & =E\\left[S^2 \\mid S=1\\right] p+E\\left[S^2 \\mid S=1\\right](1-p) \\\\\n",
        "& =p \\\\\n",
        "E[S]^2 & =p^2 \\\\\n",
        "\\operatorname{Var}(S) & =p-p^2 \\\\\n",
        "& =p(1-p)\n",
        "\\end{aligned}\n",
        "\\end{align}"
      ]
    },
    {
      "cell_type": "markdown",
      "metadata": {
        "id": "s90NnL3p6rhH"
      },
      "source": [
        "\\begin{align}\n",
        "\\begin{aligned}\n",
        "\\beta_1 & =\\frac{\\operatorname{Cov}(S, Y)}{\\operatorname{Var}(S)} \\\\\n",
        "& =\\frac{p(1-p)(E[Y \\mid S=1]-E[Y \\mid S=0])}{p(1-p)} \\\\\n",
        "& =E[Y \\mid S=1]-E[Y \\mid S=0]\n",
        "\\end{aligned}\n",
        "\\end{align}"
      ]
    },
    {
      "cell_type": "markdown",
      "metadata": {
        "id": "q3D4PbwC6rhH"
      },
      "source": [
        "## Regression Standard Errors"
      ]
    },
    {
      "cell_type": "markdown",
      "metadata": {
        "id": "j2fY6a9v6rhH"
      },
      "source": [
        "Reference: [Heteroskedasticity-consistent standard errors](https://en.wikipedia.org/wiki/Heteroskedasticity-consistent_standard_errors)"
      ]
    },
    {
      "cell_type": "markdown",
      "metadata": {
        "id": "sHZ0wWXS6rhH"
      },
      "source": [
        "For a given estimator,\n",
        "\n",
        "\\begin{align}\n",
        "\\hat{\\beta} = \\frac{\\operatorname{Cov}(S, Y)}{\\operatorname{Var}(S)}\n",
        "\\end{align}\n",
        "\n",
        "Using the matrix form,\n",
        "\n",
        "\\begin{align}\n",
        "\\widehat{\\boldsymbol{\\beta}}_{\\mathrm{OLS}}=\\left(\\mathbf{X}^{\\top} \\mathbf{X}\\right)^{-1} \\mathbf{X}^{\\top} \\mathbf{y}\n",
        "\\end{align}\n",
        "\n",
        "\n",
        "\n",
        "\n",
        "\n"
      ]
    },
    {
      "cell_type": "markdown",
      "metadata": {
        "id": "J3x8l6Br6rhH"
      },
      "source": [
        "\\begin{align}\n",
        "\\mathbb{V}\\left[\\widehat{\\boldsymbol{\\beta}}_{\\text {OLS }}\\right]=\\mathbb{V}\\left[\\left(\\mathbf{X}^{\\top} \\mathbf{X}\\right)^{-1} \\mathbf{X}^{\\top} \\mathbf{y}\\right]=\\left(\\mathbf{X}^{\\top} \\mathbf{X}\\right)^{-1} \\mathbf{X}^{\\top} \\boldsymbol{\\Sigma} \\mathbf{X}\\left(\\mathbf{X}^{\\top} \\mathbf{X}\\right)^{-1}\n",
        "\\end{align}"
      ]
    },
    {
      "cell_type": "markdown",
      "metadata": {
        "id": "6A5WuVhi6rhH"
      },
      "source": [
        "If we have the constant variance for all the residuals, we have\n",
        "\n",
        "\\begin{align}\n",
        "\\mathbb{E}\\left[\\mathbf{u} \\mathbf{u}^{\\top}\\right]=\\sigma^2 \\mathbf{I}_n\n",
        "\\end{align}\n",
        "\n",
        "we can simplify the variance to be\n",
        "\n",
        "\\begin{align}\n",
        "\\mathbb{V}\\left[\\widehat{\\boldsymbol{\\beta}}_{\\text {OLS }}\\right]=\\sigma^2\\left(\\mathbf{X}^{\\top} \\mathbf{X}\\right)^{-1}\n",
        "\\end{align}\n",
        "\n",
        "\n",
        "\n",
        "\n"
      ]
    },
    {
      "cell_type": "markdown",
      "metadata": {
        "id": "pRw6V7wK6rhH"
      },
      "source": [
        "### Clustered Standard Errors (Liang-Zeger standard errors)\n",
        "\n",
        "If the assumption broken and it is hard for us to calculate the Covariance Matrix over all the residuals, we can cluster the data by the cluster variable $C$.\n",
        "\n",
        "Change the $\\Sigma$ to be block diagonal.\n",
        "\n",
        "\\begin{align}\n",
        "\\mathbf{X}^{\\top} \\mathbf{\\Sigma} \\mathbf{X} = \\sum_{c \\in C} \\mathbf{X}_{c}^{\\top} \\Omega_{c}  \\mathbf{X}_{c}\n",
        "\\end{align}\n",
        "\n",
        "\n",
        "(with an example)"
      ]
    },
    {
      "cell_type": "code",
      "execution_count": 8,
      "metadata": {
        "colab": {
          "base_uri": "https://localhost:8080/"
        },
        "id": "hzBe8HLg6rhH",
        "outputId": "d3a6d244-b595-4d06-d918-8212de739b9a"
      },
      "outputs": [
        {
          "name": "stdout",
          "output_type": "stream",
          "text": [
            "OLS Results without Clustered Standard Errors:\n",
            "\n",
            "                            OLS Regression Results                            \n",
            "==============================================================================\n",
            "Dep. Variable:                      y   R-squared:                       0.780\n",
            "Model:                            OLS   Adj. R-squared:                  0.780\n",
            "Method:                 Least Squares   F-statistic:                     1769.\n",
            "Date:                Fri, 07 Mar 2025   Prob (F-statistic):          5.15e-166\n",
            "Time:                        06:29:15   Log-Likelihood:                -727.48\n",
            "No. Observations:                 500   AIC:                             1459.\n",
            "Df Residuals:                     498   BIC:                             1467.\n",
            "Df Model:                           1                                         \n",
            "Covariance Type:            nonrobust                                         \n",
            "==============================================================================\n",
            "                 coef    std err          t      P>|t|      [0.025      0.975]\n",
            "------------------------------------------------------------------------------\n",
            "Intercept     -0.1154      0.046     -2.485      0.013      -0.207      -0.024\n",
            "X              1.9931      0.047     42.059      0.000       1.900       2.086\n",
            "==============================================================================\n",
            "Omnibus:                       29.799   Durbin-Watson:                   0.481\n",
            "Prob(Omnibus):                  0.000   Jarque-Bera (JB):               33.824\n",
            "Skew:                           0.635   Prob(JB):                     4.52e-08\n",
            "Kurtosis:                       3.100   Cond. No.                         1.02\n",
            "==============================================================================\n",
            "\n",
            "Notes:\n",
            "[1] Standard Errors assume that the covariance matrix of the errors is correctly specified.\n"
          ]
        }
      ],
      "source": [
        "import numpy as np\n",
        "import pandas as pd\n",
        "import statsmodels.api as sm\n",
        "import statsmodels.formula.api as smf\n",
        "\n",
        "# Set random seed for reproducibility\n",
        "np.random.seed(42)\n",
        "\n",
        "# Simulate data\n",
        "n_clusters = 10  # Number of clusters\n",
        "n_per_cluster = 50  # Number of observations per cluster\n",
        "\n",
        "cluster_ids = np.repeat(np.arange(n_clusters), n_per_cluster)\n",
        "X = np.random.randn(n_clusters * n_per_cluster)  # Random independent variable\n",
        "beta = 2.0\n",
        "\n",
        "# Cluster-level random effects\n",
        "cluster_effects = np.random.randn(n_clusters)\n",
        "\n",
        "# Generate outcome variable with cluster-level effects\n",
        "y = beta * X + cluster_effects[cluster_ids] + np.random.randn(n_clusters * n_per_cluster) * 0.5\n",
        "\n",
        "# Put data into a DataFrame\n",
        "data = pd.DataFrame({\n",
        "    'y': y,\n",
        "    'X': X,\n",
        "    'cluster': cluster_ids\n",
        "})\n",
        "\n",
        "# Fit OLS model\n",
        "ols_model = smf.ols('y ~ X', data=data).fit()\n",
        "\n",
        "# Print results without clustered standard errors\n",
        "print(\"OLS Results without Clustered Standard Errors:\\n\")\n",
        "print(ols_model.summary())"
      ]
    },
    {
      "cell_type": "code",
      "execution_count": 9,
      "metadata": {
        "colab": {
          "base_uri": "https://localhost:8080/"
        },
        "id": "edRG5Ad46rhH",
        "outputId": "209822cc-9869-4ac1-c6a7-00060746a5b7"
      },
      "outputs": [
        {
          "name": "stdout",
          "output_type": "stream",
          "text": [
            "OLS Results with Clustered Standard Errors:\n",
            "\n",
            "                            OLS Regression Results                            \n",
            "==============================================================================\n",
            "Dep. Variable:                      y   R-squared:                       0.780\n",
            "Model:                            OLS   Adj. R-squared:                  0.780\n",
            "Method:                 Least Squares   F-statistic:                     3321.\n",
            "Date:                Fri, 07 Mar 2025   Prob (F-statistic):           7.18e-13\n",
            "Time:                        06:29:37   Log-Likelihood:                -727.48\n",
            "No. Observations:                 500   AIC:                             1459.\n",
            "Df Residuals:                     498   BIC:                             1467.\n",
            "Df Model:                           1                                         \n",
            "Covariance Type:              cluster                                         \n",
            "==============================================================================\n",
            "                 coef    std err          t      P>|t|      [0.025      0.975]\n",
            "------------------------------------------------------------------------------\n",
            "Intercept     -0.1154      0.307     -0.376      0.715      -0.809       0.578\n",
            "X              1.9931      0.035     57.632      0.000       1.915       2.071\n",
            "==============================================================================\n",
            "Omnibus:                       29.799   Durbin-Watson:                   0.481\n",
            "Prob(Omnibus):                  0.000   Jarque-Bera (JB):               33.824\n",
            "Skew:                           0.635   Prob(JB):                     4.52e-08\n",
            "Kurtosis:                       3.100   Cond. No.                         1.02\n",
            "==============================================================================\n",
            "\n",
            "Notes:\n",
            "[1] Standard Errors are robust to cluster correlation (cluster)\n"
          ]
        }
      ],
      "source": [
        "import numpy as np\n",
        "import pandas as pd\n",
        "import statsmodels.api as sm\n",
        "import statsmodels.formula.api as smf\n",
        "\n",
        "# Set random seed for reproducibility\n",
        "np.random.seed(42)\n",
        "\n",
        "# Simulate data\n",
        "n_clusters = 10  # Number of clusters\n",
        "n_per_cluster = 50  # Number of observations per cluster\n",
        "\n",
        "cluster_ids = np.repeat(np.arange(n_clusters), n_per_cluster)\n",
        "X = np.random.randn(n_clusters * n_per_cluster)  # Random independent variable\n",
        "beta = 2.0\n",
        "\n",
        "# Cluster-level random effects\n",
        "cluster_effects = np.random.randn(n_clusters)\n",
        "\n",
        "# Generate outcome variable with cluster-level effects\n",
        "y = beta * X + cluster_effects[cluster_ids] + np.random.randn(n_clusters * n_per_cluster) * 0.5\n",
        "\n",
        "# Put data into a DataFrame\n",
        "data = pd.DataFrame({\n",
        "    'y': y,\n",
        "    'X': X,\n",
        "    'cluster': cluster_ids\n",
        "})\n",
        "\n",
        "# Fit OLS model\n",
        "ols_model = smf.ols('y ~ X', data=data).fit()\n",
        "\n",
        "# Calculate clustered standard errors\n",
        "clustered_se = ols_model.get_robustcov_results(cov_type='cluster', groups=data['cluster'])\n",
        "\n",
        "# Print results\n",
        "print(\"OLS Results with Clustered Standard Errors:\\n\")\n",
        "print(clustered_se.summary())"
      ]
    }
  ],
  "metadata": {
    "colab": {
      "provenance": []
    },
    "kernelspec": {
      "display_name": "312",
      "language": "python",
      "name": "python3"
    },
    "language_info": {
      "codemirror_mode": {
        "name": "ipython",
        "version": 3
      },
      "file_extension": ".py",
      "mimetype": "text/x-python",
      "name": "python",
      "nbconvert_exporter": "python",
      "pygments_lexer": "ipython3",
      "version": "3.12.0"
    },
    "widgets": {
      "application/vnd.jupyter.widget-state+json": {
        "284547e1ab4f480fa199f45f4c63e182": {
          "model_module": "@jupyter-widgets/controls",
          "model_module_version": "1.5.0",
          "model_name": "SliderStyleModel",
          "state": {
            "_model_module": "@jupyter-widgets/controls",
            "_model_module_version": "1.5.0",
            "_model_name": "SliderStyleModel",
            "_view_count": null,
            "_view_module": "@jupyter-widgets/base",
            "_view_module_version": "1.2.0",
            "_view_name": "StyleView",
            "description_width": "",
            "handle_color": null
          }
        },
        "3231288a57ed411cbb0e3df83549b756": {
          "model_module": "@jupyter-widgets/output",
          "model_module_version": "1.0.0",
          "model_name": "OutputModel",
          "state": {
            "_dom_classes": [],
            "_model_module": "@jupyter-widgets/output",
            "_model_module_version": "1.0.0",
            "_model_name": "OutputModel",
            "_view_count": null,
            "_view_module": "@jupyter-widgets/output",
            "_view_module_version": "1.0.0",
            "_view_name": "OutputView",
            "layout": "IPY_MODEL_fb46630563c24e4980c9988869a06983",
            "msg_id": "",
            "outputs": [
              {
                "data": {
                  "image/png": "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\n",
                  "text/plain": "<Figure size 800x600 with 1 Axes>"
                },
                "metadata": {},
                "output_type": "display_data"
              }
            ]
          }
        },
        "50799715b2e34f308c4b6e5eb810ff73": {
          "model_module": "@jupyter-widgets/controls",
          "model_module_version": "1.5.0",
          "model_name": "FloatSliderModel",
          "state": {
            "_dom_classes": [],
            "_model_module": "@jupyter-widgets/controls",
            "_model_module_version": "1.5.0",
            "_model_name": "FloatSliderModel",
            "_view_count": null,
            "_view_module": "@jupyter-widgets/controls",
            "_view_module_version": "1.5.0",
            "_view_name": "FloatSliderView",
            "continuous_update": true,
            "description": "Alpha",
            "description_tooltip": null,
            "disabled": false,
            "layout": "IPY_MODEL_e317689cd4774a278fed5ad8179ce5de",
            "max": 1,
            "min": 0,
            "orientation": "horizontal",
            "readout": true,
            "readout_format": ".2f",
            "step": 0.1,
            "style": "IPY_MODEL_8a9d94e672494288a794934aae53b9a0",
            "value": 0.1
          }
        },
        "5195aeb50cf547cca9071cf789b1a449": {
          "model_module": "@jupyter-widgets/controls",
          "model_module_version": "1.5.0",
          "model_name": "SliderStyleModel",
          "state": {
            "_model_module": "@jupyter-widgets/controls",
            "_model_module_version": "1.5.0",
            "_model_name": "SliderStyleModel",
            "_view_count": null,
            "_view_module": "@jupyter-widgets/base",
            "_view_module_version": "1.2.0",
            "_view_name": "StyleView",
            "description_width": "",
            "handle_color": null
          }
        },
        "56f26149bc6a48d1a4aca89004192aa7": {
          "model_module": "@jupyter-widgets/controls",
          "model_module_version": "1.5.0",
          "model_name": "VBoxModel",
          "state": {
            "_dom_classes": [
              "widget-interact"
            ],
            "_model_module": "@jupyter-widgets/controls",
            "_model_module_version": "1.5.0",
            "_model_name": "VBoxModel",
            "_view_count": null,
            "_view_module": "@jupyter-widgets/controls",
            "_view_module_version": "1.5.0",
            "_view_name": "VBoxView",
            "box_style": "",
            "children": [
              "IPY_MODEL_941f6d8717b540b9a1fba545dc396e28",
              "IPY_MODEL_951f44cc838644848509aed28daa3cbd",
              "IPY_MODEL_94a3118053cb4347850f8754320665be",
              "IPY_MODEL_3231288a57ed411cbb0e3df83549b756"
            ],
            "layout": "IPY_MODEL_64873543672a40acbd554209ec6fd32b"
          }
        },
        "5d4c4921dce849de8222082cb185fbbc": {
          "model_module": "@jupyter-widgets/controls",
          "model_module_version": "1.5.0",
          "model_name": "VBoxModel",
          "state": {
            "_dom_classes": [
              "widget-interact"
            ],
            "_model_module": "@jupyter-widgets/controls",
            "_model_module_version": "1.5.0",
            "_model_name": "VBoxModel",
            "_view_count": null,
            "_view_module": "@jupyter-widgets/controls",
            "_view_module_version": "1.5.0",
            "_view_name": "VBoxView",
            "box_style": "",
            "children": [
              "IPY_MODEL_50799715b2e34f308c4b6e5eb810ff73",
              "IPY_MODEL_e9a9f4e92a24432c9df5e944bc443d5d",
              "IPY_MODEL_9310c7db73a64b66b4a6b441cfee58a0"
            ],
            "layout": "IPY_MODEL_dac57494a3854dc1bbb0f752ef039d65"
          }
        },
        "64873543672a40acbd554209ec6fd32b": {
          "model_module": "@jupyter-widgets/base",
          "model_module_version": "1.2.0",
          "model_name": "LayoutModel",
          "state": {
            "_model_module": "@jupyter-widgets/base",
            "_model_module_version": "1.2.0",
            "_model_name": "LayoutModel",
            "_view_count": null,
            "_view_module": "@jupyter-widgets/base",
            "_view_module_version": "1.2.0",
            "_view_name": "LayoutView",
            "align_content": null,
            "align_items": null,
            "align_self": null,
            "border": null,
            "bottom": null,
            "display": null,
            "flex": null,
            "flex_flow": null,
            "grid_area": null,
            "grid_auto_columns": null,
            "grid_auto_flow": null,
            "grid_auto_rows": null,
            "grid_column": null,
            "grid_gap": null,
            "grid_row": null,
            "grid_template_areas": null,
            "grid_template_columns": null,
            "grid_template_rows": null,
            "height": null,
            "justify_content": null,
            "justify_items": null,
            "left": null,
            "margin": null,
            "max_height": null,
            "max_width": null,
            "min_height": null,
            "min_width": null,
            "object_fit": null,
            "object_position": null,
            "order": null,
            "overflow": null,
            "overflow_x": null,
            "overflow_y": null,
            "padding": null,
            "right": null,
            "top": null,
            "visibility": null,
            "width": null
          }
        },
        "8a9d94e672494288a794934aae53b9a0": {
          "model_module": "@jupyter-widgets/controls",
          "model_module_version": "1.5.0",
          "model_name": "SliderStyleModel",
          "state": {
            "_model_module": "@jupyter-widgets/controls",
            "_model_module_version": "1.5.0",
            "_model_name": "SliderStyleModel",
            "_view_count": null,
            "_view_module": "@jupyter-widgets/base",
            "_view_module_version": "1.2.0",
            "_view_name": "StyleView",
            "description_width": "",
            "handle_color": null
          }
        },
        "8ff0bb3d6553404b9df489bd792266f9": {
          "model_module": "@jupyter-widgets/base",
          "model_module_version": "1.2.0",
          "model_name": "LayoutModel",
          "state": {
            "_model_module": "@jupyter-widgets/base",
            "_model_module_version": "1.2.0",
            "_model_name": "LayoutModel",
            "_view_count": null,
            "_view_module": "@jupyter-widgets/base",
            "_view_module_version": "1.2.0",
            "_view_name": "LayoutView",
            "align_content": null,
            "align_items": null,
            "align_self": null,
            "border": null,
            "bottom": null,
            "display": null,
            "flex": null,
            "flex_flow": null,
            "grid_area": null,
            "grid_auto_columns": null,
            "grid_auto_flow": null,
            "grid_auto_rows": null,
            "grid_column": null,
            "grid_gap": null,
            "grid_row": null,
            "grid_template_areas": null,
            "grid_template_columns": null,
            "grid_template_rows": null,
            "height": null,
            "justify_content": null,
            "justify_items": null,
            "left": null,
            "margin": null,
            "max_height": null,
            "max_width": null,
            "min_height": null,
            "min_width": null,
            "object_fit": null,
            "object_position": null,
            "order": null,
            "overflow": null,
            "overflow_x": null,
            "overflow_y": null,
            "padding": null,
            "right": null,
            "top": null,
            "visibility": null,
            "width": null
          }
        },
        "9310c7db73a64b66b4a6b441cfee58a0": {
          "model_module": "@jupyter-widgets/output",
          "model_module_version": "1.0.0",
          "model_name": "OutputModel",
          "state": {
            "_dom_classes": [],
            "_model_module": "@jupyter-widgets/output",
            "_model_module_version": "1.0.0",
            "_model_name": "OutputModel",
            "_view_count": null,
            "_view_module": "@jupyter-widgets/output",
            "_view_module_version": "1.0.0",
            "_view_name": "OutputView",
            "layout": "IPY_MODEL_a747cc12de774ae08e99eb204fac4b54",
            "msg_id": "",
            "outputs": [
              {
                "name": "stdout",
                "output_type": "stream",
                "text": [
                  "(100, 3)\n",
                  "[3.30011694e-05 9.99996497e-01 8.47172188e-08]\n",
                  "3.501701726279502e-09\n"
                ]
              },
              {
                "data": {
                  "image/png": "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\n",
                  "text/plain": "<Figure size 800x600 with 1 Axes>"
                },
                "metadata": {},
                "output_type": "display_data"
              }
            ]
          }
        },
        "941f6d8717b540b9a1fba545dc396e28": {
          "model_module": "@jupyter-widgets/controls",
          "model_module_version": "1.5.0",
          "model_name": "FloatSliderModel",
          "state": {
            "_dom_classes": [],
            "_model_module": "@jupyter-widgets/controls",
            "_model_module_version": "1.5.0",
            "_model_name": "FloatSliderModel",
            "_view_count": null,
            "_view_module": "@jupyter-widgets/controls",
            "_view_module_version": "1.5.0",
            "_view_name": "FloatSliderView",
            "continuous_update": true,
            "description": "Left Boundary",
            "description_tooltip": null,
            "disabled": false,
            "layout": "IPY_MODEL_8ff0bb3d6553404b9df489bd792266f9",
            "max": 0,
            "min": -20,
            "orientation": "horizontal",
            "readout": true,
            "readout_format": ".2f",
            "step": 1,
            "style": "IPY_MODEL_ac42334dbfa441b385020c333cd589cf",
            "value": -10
          }
        },
        "94a3118053cb4347850f8754320665be": {
          "model_module": "@jupyter-widgets/controls",
          "model_module_version": "1.5.0",
          "model_name": "FloatSliderModel",
          "state": {
            "_dom_classes": [],
            "_model_module": "@jupyter-widgets/controls",
            "_model_module_version": "1.5.0",
            "_model_name": "FloatSliderModel",
            "_view_count": null,
            "_view_module": "@jupyter-widgets/controls",
            "_view_module_version": "1.5.0",
            "_view_name": "FloatSliderView",
            "continuous_update": true,
            "description": "Gap",
            "description_tooltip": null,
            "disabled": false,
            "layout": "IPY_MODEL_b02dd47be9af4daab19cc2f3dc39750b",
            "max": 20,
            "min": 0.1,
            "orientation": "horizontal",
            "readout": true,
            "readout_format": ".2f",
            "step": 0.1,
            "style": "IPY_MODEL_a9950df17bef49a6a7b68498fabfde68",
            "value": 0.1
          }
        },
        "951f44cc838644848509aed28daa3cbd": {
          "model_module": "@jupyter-widgets/controls",
          "model_module_version": "1.5.0",
          "model_name": "FloatSliderModel",
          "state": {
            "_dom_classes": [],
            "_model_module": "@jupyter-widgets/controls",
            "_model_module_version": "1.5.0",
            "_model_name": "FloatSliderModel",
            "_view_count": null,
            "_view_module": "@jupyter-widgets/controls",
            "_view_module_version": "1.5.0",
            "_view_name": "FloatSliderView",
            "continuous_update": true,
            "description": "Right Boundary",
            "description_tooltip": null,
            "disabled": false,
            "layout": "IPY_MODEL_ebea55220ceb4d44b4d806e7ad40971a",
            "max": 30,
            "min": 0,
            "orientation": "horizontal",
            "readout": true,
            "readout_format": ".2f",
            "step": 1,
            "style": "IPY_MODEL_5195aeb50cf547cca9071cf789b1a449",
            "value": 20
          }
        },
        "a747cc12de774ae08e99eb204fac4b54": {
          "model_module": "@jupyter-widgets/base",
          "model_module_version": "1.2.0",
          "model_name": "LayoutModel",
          "state": {
            "_model_module": "@jupyter-widgets/base",
            "_model_module_version": "1.2.0",
            "_model_name": "LayoutModel",
            "_view_count": null,
            "_view_module": "@jupyter-widgets/base",
            "_view_module_version": "1.2.0",
            "_view_name": "LayoutView",
            "align_content": null,
            "align_items": null,
            "align_self": null,
            "border": null,
            "bottom": null,
            "display": null,
            "flex": null,
            "flex_flow": null,
            "grid_area": null,
            "grid_auto_columns": null,
            "grid_auto_flow": null,
            "grid_auto_rows": null,
            "grid_column": null,
            "grid_gap": null,
            "grid_row": null,
            "grid_template_areas": null,
            "grid_template_columns": null,
            "grid_template_rows": null,
            "height": null,
            "justify_content": null,
            "justify_items": null,
            "left": null,
            "margin": null,
            "max_height": null,
            "max_width": null,
            "min_height": null,
            "min_width": null,
            "object_fit": null,
            "object_position": null,
            "order": null,
            "overflow": null,
            "overflow_x": null,
            "overflow_y": null,
            "padding": null,
            "right": null,
            "top": null,
            "visibility": null,
            "width": null
          }
        },
        "a9950df17bef49a6a7b68498fabfde68": {
          "model_module": "@jupyter-widgets/controls",
          "model_module_version": "1.5.0",
          "model_name": "SliderStyleModel",
          "state": {
            "_model_module": "@jupyter-widgets/controls",
            "_model_module_version": "1.5.0",
            "_model_name": "SliderStyleModel",
            "_view_count": null,
            "_view_module": "@jupyter-widgets/base",
            "_view_module_version": "1.2.0",
            "_view_name": "StyleView",
            "description_width": "",
            "handle_color": null
          }
        },
        "aa79c4c93faa441db45b87c6f5f81418": {
          "model_module": "@jupyter-widgets/base",
          "model_module_version": "1.2.0",
          "model_name": "LayoutModel",
          "state": {
            "_model_module": "@jupyter-widgets/base",
            "_model_module_version": "1.2.0",
            "_model_name": "LayoutModel",
            "_view_count": null,
            "_view_module": "@jupyter-widgets/base",
            "_view_module_version": "1.2.0",
            "_view_name": "LayoutView",
            "align_content": null,
            "align_items": null,
            "align_self": null,
            "border": null,
            "bottom": null,
            "display": null,
            "flex": null,
            "flex_flow": null,
            "grid_area": null,
            "grid_auto_columns": null,
            "grid_auto_flow": null,
            "grid_auto_rows": null,
            "grid_column": null,
            "grid_gap": null,
            "grid_row": null,
            "grid_template_areas": null,
            "grid_template_columns": null,
            "grid_template_rows": null,
            "height": null,
            "justify_content": null,
            "justify_items": null,
            "left": null,
            "margin": null,
            "max_height": null,
            "max_width": null,
            "min_height": null,
            "min_width": null,
            "object_fit": null,
            "object_position": null,
            "order": null,
            "overflow": null,
            "overflow_x": null,
            "overflow_y": null,
            "padding": null,
            "right": null,
            "top": null,
            "visibility": null,
            "width": null
          }
        },
        "ac42334dbfa441b385020c333cd589cf": {
          "model_module": "@jupyter-widgets/controls",
          "model_module_version": "1.5.0",
          "model_name": "SliderStyleModel",
          "state": {
            "_model_module": "@jupyter-widgets/controls",
            "_model_module_version": "1.5.0",
            "_model_name": "SliderStyleModel",
            "_view_count": null,
            "_view_module": "@jupyter-widgets/base",
            "_view_module_version": "1.2.0",
            "_view_name": "StyleView",
            "description_width": "",
            "handle_color": null
          }
        },
        "b02dd47be9af4daab19cc2f3dc39750b": {
          "model_module": "@jupyter-widgets/base",
          "model_module_version": "1.2.0",
          "model_name": "LayoutModel",
          "state": {
            "_model_module": "@jupyter-widgets/base",
            "_model_module_version": "1.2.0",
            "_model_name": "LayoutModel",
            "_view_count": null,
            "_view_module": "@jupyter-widgets/base",
            "_view_module_version": "1.2.0",
            "_view_name": "LayoutView",
            "align_content": null,
            "align_items": null,
            "align_self": null,
            "border": null,
            "bottom": null,
            "display": null,
            "flex": null,
            "flex_flow": null,
            "grid_area": null,
            "grid_auto_columns": null,
            "grid_auto_flow": null,
            "grid_auto_rows": null,
            "grid_column": null,
            "grid_gap": null,
            "grid_row": null,
            "grid_template_areas": null,
            "grid_template_columns": null,
            "grid_template_rows": null,
            "height": null,
            "justify_content": null,
            "justify_items": null,
            "left": null,
            "margin": null,
            "max_height": null,
            "max_width": null,
            "min_height": null,
            "min_width": null,
            "object_fit": null,
            "object_position": null,
            "order": null,
            "overflow": null,
            "overflow_x": null,
            "overflow_y": null,
            "padding": null,
            "right": null,
            "top": null,
            "visibility": null,
            "width": null
          }
        },
        "dac57494a3854dc1bbb0f752ef039d65": {
          "model_module": "@jupyter-widgets/base",
          "model_module_version": "1.2.0",
          "model_name": "LayoutModel",
          "state": {
            "_model_module": "@jupyter-widgets/base",
            "_model_module_version": "1.2.0",
            "_model_name": "LayoutModel",
            "_view_count": null,
            "_view_module": "@jupyter-widgets/base",
            "_view_module_version": "1.2.0",
            "_view_name": "LayoutView",
            "align_content": null,
            "align_items": null,
            "align_self": null,
            "border": null,
            "bottom": null,
            "display": null,
            "flex": null,
            "flex_flow": null,
            "grid_area": null,
            "grid_auto_columns": null,
            "grid_auto_flow": null,
            "grid_auto_rows": null,
            "grid_column": null,
            "grid_gap": null,
            "grid_row": null,
            "grid_template_areas": null,
            "grid_template_columns": null,
            "grid_template_rows": null,
            "height": null,
            "justify_content": null,
            "justify_items": null,
            "left": null,
            "margin": null,
            "max_height": null,
            "max_width": null,
            "min_height": null,
            "min_width": null,
            "object_fit": null,
            "object_position": null,
            "order": null,
            "overflow": null,
            "overflow_x": null,
            "overflow_y": null,
            "padding": null,
            "right": null,
            "top": null,
            "visibility": null,
            "width": null
          }
        },
        "e317689cd4774a278fed5ad8179ce5de": {
          "model_module": "@jupyter-widgets/base",
          "model_module_version": "1.2.0",
          "model_name": "LayoutModel",
          "state": {
            "_model_module": "@jupyter-widgets/base",
            "_model_module_version": "1.2.0",
            "_model_name": "LayoutModel",
            "_view_count": null,
            "_view_module": "@jupyter-widgets/base",
            "_view_module_version": "1.2.0",
            "_view_name": "LayoutView",
            "align_content": null,
            "align_items": null,
            "align_self": null,
            "border": null,
            "bottom": null,
            "display": null,
            "flex": null,
            "flex_flow": null,
            "grid_area": null,
            "grid_auto_columns": null,
            "grid_auto_flow": null,
            "grid_auto_rows": null,
            "grid_column": null,
            "grid_gap": null,
            "grid_row": null,
            "grid_template_areas": null,
            "grid_template_columns": null,
            "grid_template_rows": null,
            "height": null,
            "justify_content": null,
            "justify_items": null,
            "left": null,
            "margin": null,
            "max_height": null,
            "max_width": null,
            "min_height": null,
            "min_width": null,
            "object_fit": null,
            "object_position": null,
            "order": null,
            "overflow": null,
            "overflow_x": null,
            "overflow_y": null,
            "padding": null,
            "right": null,
            "top": null,
            "visibility": null,
            "width": null
          }
        },
        "e9a9f4e92a24432c9df5e944bc443d5d": {
          "model_module": "@jupyter-widgets/controls",
          "model_module_version": "1.5.0",
          "model_name": "IntSliderModel",
          "state": {
            "_dom_classes": [],
            "_model_module": "@jupyter-widgets/controls",
            "_model_module_version": "1.5.0",
            "_model_name": "IntSliderModel",
            "_view_count": null,
            "_view_module": "@jupyter-widgets/controls",
            "_view_module_version": "1.5.0",
            "_view_name": "IntSliderView",
            "continuous_update": true,
            "description": "Degree",
            "description_tooltip": null,
            "disabled": false,
            "layout": "IPY_MODEL_aa79c4c93faa441db45b87c6f5f81418",
            "max": 10,
            "min": 1,
            "orientation": "horizontal",
            "readout": true,
            "readout_format": "d",
            "step": 1,
            "style": "IPY_MODEL_284547e1ab4f480fa199f45f4c63e182",
            "value": 3
          }
        },
        "ebea55220ceb4d44b4d806e7ad40971a": {
          "model_module": "@jupyter-widgets/base",
          "model_module_version": "1.2.0",
          "model_name": "LayoutModel",
          "state": {
            "_model_module": "@jupyter-widgets/base",
            "_model_module_version": "1.2.0",
            "_model_name": "LayoutModel",
            "_view_count": null,
            "_view_module": "@jupyter-widgets/base",
            "_view_module_version": "1.2.0",
            "_view_name": "LayoutView",
            "align_content": null,
            "align_items": null,
            "align_self": null,
            "border": null,
            "bottom": null,
            "display": null,
            "flex": null,
            "flex_flow": null,
            "grid_area": null,
            "grid_auto_columns": null,
            "grid_auto_flow": null,
            "grid_auto_rows": null,
            "grid_column": null,
            "grid_gap": null,
            "grid_row": null,
            "grid_template_areas": null,
            "grid_template_columns": null,
            "grid_template_rows": null,
            "height": null,
            "justify_content": null,
            "justify_items": null,
            "left": null,
            "margin": null,
            "max_height": null,
            "max_width": null,
            "min_height": null,
            "min_width": null,
            "object_fit": null,
            "object_position": null,
            "order": null,
            "overflow": null,
            "overflow_x": null,
            "overflow_y": null,
            "padding": null,
            "right": null,
            "top": null,
            "visibility": null,
            "width": null
          }
        },
        "fb46630563c24e4980c9988869a06983": {
          "model_module": "@jupyter-widgets/base",
          "model_module_version": "1.2.0",
          "model_name": "LayoutModel",
          "state": {
            "_model_module": "@jupyter-widgets/base",
            "_model_module_version": "1.2.0",
            "_model_name": "LayoutModel",
            "_view_count": null,
            "_view_module": "@jupyter-widgets/base",
            "_view_module_version": "1.2.0",
            "_view_name": "LayoutView",
            "align_content": null,
            "align_items": null,
            "align_self": null,
            "border": null,
            "bottom": null,
            "display": null,
            "flex": null,
            "flex_flow": null,
            "grid_area": null,
            "grid_auto_columns": null,
            "grid_auto_flow": null,
            "grid_auto_rows": null,
            "grid_column": null,
            "grid_gap": null,
            "grid_row": null,
            "grid_template_areas": null,
            "grid_template_columns": null,
            "grid_template_rows": null,
            "height": null,
            "justify_content": null,
            "justify_items": null,
            "left": null,
            "margin": null,
            "max_height": null,
            "max_width": null,
            "min_height": null,
            "min_width": null,
            "object_fit": null,
            "object_position": null,
            "order": null,
            "overflow": null,
            "overflow_x": null,
            "overflow_y": null,
            "padding": null,
            "right": null,
            "top": null,
            "visibility": null,
            "width": null
          }
        }
      }
    }
  },
  "nbformat": 4,
  "nbformat_minor": 0
}
